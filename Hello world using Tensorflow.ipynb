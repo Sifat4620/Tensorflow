{
 "cells": [
  {
   "cell_type": "code",
   "execution_count": 2,
   "id": "27dedff4",
   "metadata": {},
   "outputs": [],
   "source": [
    "import tensorflow as tf\n",
    "import numpy as np"
   ]
  },
  {
   "cell_type": "code",
   "execution_count": 3,
   "id": "a7b16b34",
   "metadata": {},
   "outputs": [],
   "source": [
    "xs = np.array([-1.0,0.0,2.0,3.0],dtype=float)\n",
    "ys = np.array([-3.0,-1.0,1.0,3.0],dtype=float)"
   ]
  },
  {
   "cell_type": "code",
   "execution_count": 5,
   "id": "4a2c6ee8",
   "metadata": {},
   "outputs": [
    {
     "name": "stdout",
     "output_type": "stream",
     "text": [
      "WARNING:tensorflow:From C:\\Users\\mdsif\\anaconda3\\lib\\site-packages\\keras\\src\\backend.py:873: The name tf.get_default_graph is deprecated. Please use tf.compat.v1.get_default_graph instead.\n",
      "\n"
     ]
    }
   ],
   "source": [
    "model = tf.keras.Sequential([\n",
    "    tf.keras.layers.Dense(units=1, input_shape=[1])\n",
    "])"
   ]
  },
  {
   "cell_type": "code",
   "execution_count": 6,
   "id": "b207ff20",
   "metadata": {},
   "outputs": [
    {
     "name": "stdout",
     "output_type": "stream",
     "text": [
      "WARNING:tensorflow:From C:\\Users\\mdsif\\anaconda3\\lib\\site-packages\\keras\\src\\optimizers\\__init__.py:309: The name tf.train.Optimizer is deprecated. Please use tf.compat.v1.train.Optimizer instead.\n",
      "\n"
     ]
    }
   ],
   "source": [
    "model.compile(optimizer='sgd',loss='mean_squared_error')"
   ]
  },
  {
   "cell_type": "code",
   "execution_count": 7,
   "id": "d2505bb2",
   "metadata": {
    "scrolled": true
   },
   "outputs": [
    {
     "name": "stdout",
     "output_type": "stream",
     "text": [
      "Epoch 1/100\n",
      "WARNING:tensorflow:From C:\\Users\\mdsif\\anaconda3\\lib\\site-packages\\keras\\src\\utils\\tf_utils.py:492: The name tf.ragged.RaggedTensorValue is deprecated. Please use tf.compat.v1.ragged.RaggedTensorValue instead.\n",
      "\n",
      "1/1 [==============================] - 0s 462ms/step - loss: 12.2428\n",
      "Epoch 2/100\n",
      "1/1 [==============================] - 0s 7ms/step - loss: 10.7727\n",
      "Epoch 3/100\n",
      "1/1 [==============================] - 0s 5ms/step - loss: 9.5119\n",
      "Epoch 4/100\n",
      "1/1 [==============================] - 0s 6ms/step - loss: 8.4296\n",
      "Epoch 5/100\n",
      "1/1 [==============================] - 0s 7ms/step - loss: 7.4995\n",
      "Epoch 6/100\n",
      "1/1 [==============================] - 0s 6ms/step - loss: 6.6993\n",
      "Epoch 7/100\n",
      "1/1 [==============================] - 0s 6ms/step - loss: 6.0100\n",
      "Epoch 8/100\n",
      "1/1 [==============================] - 0s 5ms/step - loss: 5.4154\n",
      "Epoch 9/100\n",
      "1/1 [==============================] - 0s 6ms/step - loss: 4.9016\n",
      "Epoch 10/100\n",
      "1/1 [==============================] - 0s 5ms/step - loss: 4.4568\n",
      "Epoch 11/100\n",
      "1/1 [==============================] - 0s 6ms/step - loss: 4.0711\n",
      "Epoch 12/100\n",
      "1/1 [==============================] - 0s 5ms/step - loss: 3.7357\n",
      "Epoch 13/100\n",
      "1/1 [==============================] - 0s 6ms/step - loss: 3.4435\n",
      "Epoch 14/100\n",
      "1/1 [==============================] - 0s 5ms/step - loss: 3.1883\n",
      "Epoch 15/100\n",
      "1/1 [==============================] - 0s 6ms/step - loss: 2.9646\n",
      "Epoch 16/100\n",
      "1/1 [==============================] - 0s 6ms/step - loss: 2.7680\n",
      "Epoch 17/100\n",
      "1/1 [==============================] - 0s 5ms/step - loss: 2.5947\n",
      "Epoch 18/100\n",
      "1/1 [==============================] - 0s 5ms/step - loss: 2.4413\n",
      "Epoch 19/100\n",
      "1/1 [==============================] - 0s 5ms/step - loss: 2.3051\n",
      "Epoch 20/100\n",
      "1/1 [==============================] - 0s 6ms/step - loss: 2.1836\n",
      "Epoch 21/100\n",
      "1/1 [==============================] - 0s 5ms/step - loss: 2.0748\n",
      "Epoch 22/100\n",
      "1/1 [==============================] - 0s 6ms/step - loss: 1.9770\n",
      "Epoch 23/100\n",
      "1/1 [==============================] - 0s 5ms/step - loss: 1.8886\n",
      "Epoch 24/100\n",
      "1/1 [==============================] - 0s 5ms/step - loss: 1.8084\n",
      "Epoch 25/100\n",
      "1/1 [==============================] - 0s 6ms/step - loss: 1.7354\n",
      "Epoch 26/100\n",
      "1/1 [==============================] - 0s 5ms/step - loss: 1.6685\n",
      "Epoch 27/100\n",
      "1/1 [==============================] - 0s 6ms/step - loss: 1.6070\n",
      "Epoch 28/100\n",
      "1/1 [==============================] - 0s 5ms/step - loss: 1.5502\n",
      "Epoch 29/100\n",
      "1/1 [==============================] - 0s 6ms/step - loss: 1.4975\n",
      "Epoch 30/100\n",
      "1/1 [==============================] - 0s 5ms/step - loss: 1.4484\n",
      "Epoch 31/100\n",
      "1/1 [==============================] - 0s 6ms/step - loss: 1.4026\n",
      "Epoch 32/100\n",
      "1/1 [==============================] - 0s 6ms/step - loss: 1.3595\n",
      "Epoch 33/100\n",
      "1/1 [==============================] - 0s 8ms/step - loss: 1.3190\n",
      "Epoch 34/100\n",
      "1/1 [==============================] - 0s 6ms/step - loss: 1.2807\n",
      "Epoch 35/100\n",
      "1/1 [==============================] - 0s 9ms/step - loss: 1.2444\n",
      "Epoch 36/100\n",
      "1/1 [==============================] - 0s 10ms/step - loss: 1.2099\n",
      "Epoch 37/100\n",
      "1/1 [==============================] - 0s 6ms/step - loss: 1.1770\n",
      "Epoch 38/100\n",
      "1/1 [==============================] - 0s 8ms/step - loss: 1.1456\n",
      "Epoch 39/100\n",
      "1/1 [==============================] - 0s 8ms/step - loss: 1.1156\n",
      "Epoch 40/100\n",
      "1/1 [==============================] - 0s 7ms/step - loss: 1.0868\n",
      "Epoch 41/100\n",
      "1/1 [==============================] - 0s 8ms/step - loss: 1.0591\n",
      "Epoch 42/100\n",
      "1/1 [==============================] - 0s 7ms/step - loss: 1.0324\n",
      "Epoch 43/100\n",
      "1/1 [==============================] - 0s 7ms/step - loss: 1.0067\n",
      "Epoch 44/100\n",
      "1/1 [==============================] - 0s 8ms/step - loss: 0.9820\n",
      "Epoch 45/100\n",
      "1/1 [==============================] - 0s 7ms/step - loss: 0.9580\n",
      "Epoch 46/100\n",
      "1/1 [==============================] - 0s 7ms/step - loss: 0.9349\n",
      "Epoch 47/100\n",
      "1/1 [==============================] - 0s 6ms/step - loss: 0.9125\n",
      "Epoch 48/100\n",
      "1/1 [==============================] - 0s 5ms/step - loss: 0.8908\n",
      "Epoch 49/100\n",
      "1/1 [==============================] - 0s 6ms/step - loss: 0.8698\n",
      "Epoch 50/100\n",
      "1/1 [==============================] - 0s 6ms/step - loss: 0.8494\n",
      "Epoch 51/100\n",
      "1/1 [==============================] - 0s 5ms/step - loss: 0.8296\n",
      "Epoch 52/100\n",
      "1/1 [==============================] - 0s 5ms/step - loss: 0.8104\n",
      "Epoch 53/100\n",
      "1/1 [==============================] - 0s 6ms/step - loss: 0.7918\n",
      "Epoch 54/100\n",
      "1/1 [==============================] - 0s 6ms/step - loss: 0.7736\n",
      "Epoch 55/100\n",
      "1/1 [==============================] - 0s 5ms/step - loss: 0.7560\n",
      "Epoch 56/100\n",
      "1/1 [==============================] - 0s 5ms/step - loss: 0.7389\n",
      "Epoch 57/100\n",
      "1/1 [==============================] - 0s 5ms/step - loss: 0.7222\n",
      "Epoch 58/100\n",
      "1/1 [==============================] - 0s 5ms/step - loss: 0.7060\n",
      "Epoch 59/100\n",
      "1/1 [==============================] - 0s 4ms/step - loss: 0.6903\n",
      "Epoch 60/100\n",
      "1/1 [==============================] - 0s 4ms/step - loss: 0.6749\n",
      "Epoch 61/100\n",
      "1/1 [==============================] - 0s 5ms/step - loss: 0.6600\n",
      "Epoch 62/100\n",
      "1/1 [==============================] - 0s 5ms/step - loss: 0.6455\n",
      "Epoch 63/100\n",
      "1/1 [==============================] - 0s 6ms/step - loss: 0.6314\n",
      "Epoch 64/100\n",
      "1/1 [==============================] - 0s 5ms/step - loss: 0.6176\n",
      "Epoch 65/100\n",
      "1/1 [==============================] - 0s 5ms/step - loss: 0.6042\n",
      "Epoch 66/100\n",
      "1/1 [==============================] - 0s 5ms/step - loss: 0.5911\n",
      "Epoch 67/100\n",
      "1/1 [==============================] - 0s 5ms/step - loss: 0.5784\n",
      "Epoch 68/100\n",
      "1/1 [==============================] - 0s 5ms/step - loss: 0.5661\n",
      "Epoch 69/100\n",
      "1/1 [==============================] - 0s 6ms/step - loss: 0.5540\n",
      "Epoch 70/100\n",
      "1/1 [==============================] - 0s 6ms/step - loss: 0.5423\n",
      "Epoch 71/100\n",
      "1/1 [==============================] - 0s 4ms/step - loss: 0.5308\n",
      "Epoch 72/100\n",
      "1/1 [==============================] - 0s 5ms/step - loss: 0.5197\n",
      "Epoch 73/100\n",
      "1/1 [==============================] - 0s 5ms/step - loss: 0.5089\n",
      "Epoch 74/100\n",
      "1/1 [==============================] - 0s 5ms/step - loss: 0.4983\n",
      "Epoch 75/100\n",
      "1/1 [==============================] - 0s 5ms/step - loss: 0.4880\n",
      "Epoch 76/100\n",
      "1/1 [==============================] - 0s 5ms/step - loss: 0.4780\n",
      "Epoch 77/100\n",
      "1/1 [==============================] - 0s 5ms/step - loss: 0.4683\n",
      "Epoch 78/100\n",
      "1/1 [==============================] - 0s 4ms/step - loss: 0.4587\n",
      "Epoch 79/100\n",
      "1/1 [==============================] - 0s 5ms/step - loss: 0.4495\n",
      "Epoch 80/100\n",
      "1/1 [==============================] - 0s 5ms/step - loss: 0.4405\n",
      "Epoch 81/100\n",
      "1/1 [==============================] - 0s 5ms/step - loss: 0.4317\n",
      "Epoch 82/100\n",
      "1/1 [==============================] - 0s 5ms/step - loss: 0.4231\n",
      "Epoch 83/100\n",
      "1/1 [==============================] - 0s 5ms/step - loss: 0.4148\n",
      "Epoch 84/100\n",
      "1/1 [==============================] - 0s 5ms/step - loss: 0.4067\n",
      "Epoch 85/100\n",
      "1/1 [==============================] - 0s 6ms/step - loss: 0.3987\n",
      "Epoch 86/100\n",
      "1/1 [==============================] - 0s 6ms/step - loss: 0.3910\n",
      "Epoch 87/100\n",
      "1/1 [==============================] - 0s 10ms/step - loss: 0.3835\n",
      "Epoch 88/100\n",
      "1/1 [==============================] - 0s 7ms/step - loss: 0.3762\n",
      "Epoch 89/100\n",
      "1/1 [==============================] - 0s 6ms/step - loss: 0.3691\n",
      "Epoch 90/100\n",
      "1/1 [==============================] - 0s 5ms/step - loss: 0.3621\n",
      "Epoch 91/100\n",
      "1/1 [==============================] - 0s 4ms/step - loss: 0.3554\n",
      "Epoch 92/100\n",
      "1/1 [==============================] - 0s 4ms/step - loss: 0.3488\n",
      "Epoch 93/100\n",
      "1/1 [==============================] - 0s 6ms/step - loss: 0.3424\n",
      "Epoch 94/100\n",
      "1/1 [==============================] - 0s 5ms/step - loss: 0.3361\n",
      "Epoch 95/100\n",
      "1/1 [==============================] - 0s 5ms/step - loss: 0.3300\n",
      "Epoch 96/100\n",
      "1/1 [==============================] - 0s 6ms/step - loss: 0.3241\n",
      "Epoch 97/100\n",
      "1/1 [==============================] - 0s 5ms/step - loss: 0.3183\n",
      "Epoch 98/100\n",
      "1/1 [==============================] - 0s 5ms/step - loss: 0.3127\n",
      "Epoch 99/100\n",
      "1/1 [==============================] - 0s 5ms/step - loss: 0.3072\n",
      "Epoch 100/100\n",
      "1/1 [==============================] - 0s 6ms/step - loss: 0.3018\n"
     ]
    },
    {
     "data": {
      "text/plain": [
       "<keras.src.callbacks.History at 0x1dc2f295670>"
      ]
     },
     "execution_count": 7,
     "metadata": {},
     "output_type": "execute_result"
    }
   ],
   "source": [
    "model.fit(xs,ys,epochs=100)"
   ]
  },
  {
   "cell_type": "code",
   "execution_count": 8,
   "id": "ba25aa91",
   "metadata": {},
   "outputs": [
    {
     "name": "stdout",
     "output_type": "stream",
     "text": [
      "1/1 [==============================] - 0s 168ms/step\n",
      "[[5.2058744]]\n"
     ]
    }
   ],
   "source": [
    "print(model.predict([5.0]))"
   ]
  },
  {
   "cell_type": "code",
   "execution_count": null,
   "id": "a2701210",
   "metadata": {},
   "outputs": [],
   "source": []
  }
 ],
 "metadata": {
  "kernelspec": {
   "display_name": "Python 3 (ipykernel)",
   "language": "python",
   "name": "python3"
  },
  "language_info": {
   "codemirror_mode": {
    "name": "ipython",
    "version": 3
   },
   "file_extension": ".py",
   "mimetype": "text/x-python",
   "name": "python",
   "nbconvert_exporter": "python",
   "pygments_lexer": "ipython3",
   "version": "3.9.13"
  }
 },
 "nbformat": 4,
 "nbformat_minor": 5
}
